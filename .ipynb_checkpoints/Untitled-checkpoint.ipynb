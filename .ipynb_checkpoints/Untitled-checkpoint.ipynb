{
 "cells": [
  {
   "cell_type": "code",
   "execution_count": null,
   "id": "4a1d500b",
   "metadata": {},
   "outputs": [],
   "source": [
    "from flask import Flask, render_template, jsonify\n",
    "from flask_mail import Mail, Message\n",
    "import traceback\n",
    "\n",
    "app = Flask(_name_)\n",
    "\n",
    "# Email configuration\n",
    "app.config['MAIL_SERVER'] = 'smtp.gmail.com'\n",
    "app.config['MAIL_PORT'] = 587\n",
    "app.config['MAIL_USE_TLS'] = True\n",
    "app.config['MAIL_USERNAME'] = 'mohitdeo63@gmail.com'  # Replace with your email\n",
    "app.config['MAIL_PASSWORD'] = 'zdbb ajqn xqsk mvec'  # Use your Gmail App Password (not your main Gmail password)\n",
    "\n",
    "mail = Mail(app)\n",
    "\n",
    "# Default route to serve the HTML page\n",
    "@app.route('/')\n",
    "def home():\n",
    "    return render_template('redfort.html')\n",
    "\n",
    "# Route to send an email\n",
    "@app.route('/send-email', methods=['POST'])\n",
    "def send_email():\n",
    "    try:\n",
    "        # Hardcoded recipient\n",
    "        recipient = \"mohitdeo0902@gmail.com\"\n",
    "        subject = \"New Message from Website\"\n",
    "        body = \" A new scene is requested from xyz@gmail.com . Please look out for the details and discuss with xyz.\"\n",
    "\n",
    "        # Create and send the email\n",
    "        msg = Message(subject, sender=app.config['MAIL_USERNAME'], recipients=[recipient])\n",
    "        msg.body = body\n",
    "        mail.send(msg)\n",
    "\n",
    "        return jsonify({\"message\": \"Email sent successfully\"}), 200\n",
    "\n",
    "    except Exception as e:\n",
    "        # Log the detailed error traceback to the console for debugging\n",
    "        error_details = traceback.format_exc()\n",
    "        print(error_details)\n",
    "\n",
    "        # Return a meaningful error message to the client\n",
    "        return jsonify({\"error\": \"Failed to send email. Check server logs for details.\"}), 500\n",
    "\n",
    "if _name_ == '_main_':\n",
    "    app.run(debug=True)"
   ]
  }
 ],
 "metadata": {
  "kernelspec": {
   "display_name": "Python 3 (ipykernel)",
   "language": "python",
   "name": "python3"
  },
  "language_info": {
   "codemirror_mode": {
    "name": "ipython",
    "version": 3
   },
   "file_extension": ".py",
   "mimetype": "text/x-python",
   "name": "python",
   "nbconvert_exporter": "python",
   "pygments_lexer": "ipython3",
   "version": "3.10.11"
  }
 },
 "nbformat": 4,
 "nbformat_minor": 5
}
